{
 "cells": [
  {
   "cell_type": "code",
   "execution_count": 23,
   "id": "f9b1b39c",
   "metadata": {},
   "outputs": [],
   "source": [
    "import numpy as np"
   ]
  },
  {
   "cell_type": "markdown",
   "id": "a72a7bbe",
   "metadata": {},
   "source": [
    "1.\tCreate a python program to find duplicate files by content. User will input path and it will scan all directories, sub-directories to find all duplicates files.\n",
    "Delete the found duplicate file.\n",
    "[Hint: use hashlib]"
   ]
  },
  {
   "cell_type": "code",
   "execution_count": 4,
   "id": "b600be8a",
   "metadata": {},
   "outputs": [
    {
     "name": "stdout",
     "output_type": "stream",
     "text": [
      "Enter The Path : C:/Users/pmundrai/tekpython\n",
      "C:/Users/pmundrai/tekpython\\test2.txt\n",
      "The deleted files are None\n"
     ]
    }
   ],
   "source": [
    "import os\n",
    "import hashlib\n",
    "\n",
    "def find_duplicates(root):\n",
    "    hashes = {}\n",
    "    duplicates = []\n",
    "    for dirpath, dirnames, filenames in os.walk(root):\n",
    "        for filename in filenames:\n",
    "            full_path = os.path.join(dirpath, filename)\n",
    "            with open(full_path, 'rb') as file:\n",
    "                file_hash = hashlib.sha256(file.read()).hexdigest()\n",
    "            if file_hash in hashes:\n",
    "                duplicates.append(full_path)\n",
    "            else:\n",
    "                hashes[file_hash] = full_path\n",
    "    return duplicates\n",
    "\n",
    "def delete_duplicates(duplicates):\n",
    "    for path in duplicates:\n",
    "        os.remove(path)\n",
    "        \n",
    "path=input(\"Enter The Path : \")\n",
    "dup=find_duplicates(path)\n",
    "for i in dup:\n",
    "    print(i)\n",
    "    \n",
    "deleted_dups=delete_duplicates(dup)\n",
    "print(\"The deleted files are\",deleted_dups)"
   ]
  },
  {
   "cell_type": "markdown",
   "id": "c341d838",
   "metadata": {},
   "source": [
    "2.\tGenerate random Password with exact length = 6, with minimum 1 uppercase, 2 lowercase, 2 digits, and remaining special characters."
   ]
  },
  {
   "cell_type": "code",
   "execution_count": 1,
   "id": "751278f1",
   "metadata": {},
   "outputs": [
    {
     "name": "stdout",
     "output_type": "stream",
     "text": [
      "THE PASSWORD IS : irFW:0NmRadDMX4G)\n"
     ]
    }
   ],
   "source": [
    "import string\n",
    "import random\n",
    "length=17\n",
    "upper=string.ascii_uppercase\n",
    "lower=string.ascii_lowercase\n",
    "digits=string.digits\n",
    "spl_char=string.punctuation\n",
    "all=upper+lower+digits\n",
    "password=''\n",
    "password=random.sample(all,length-2)\n",
    "for i in range(2):\n",
    "    password.append(random.choice(spl_char))\n",
    "random.shuffle(password)\n",
    "password=''.join(password)\n",
    "print(\"THE PASSWORD IS :\",password)"
   ]
  },
  {
   "cell_type": "markdown",
   "id": "87bbb81b",
   "metadata": {},
   "source": [
    "3.\tCreate 2D array and update the same 2D array provided that every prime number position should be replaced by cube of the positioned number."
   ]
  },
  {
   "cell_type": "code",
   "execution_count": 53,
   "id": "b08f9532",
   "metadata": {},
   "outputs": [
    {
     "data": {
      "text/plain": [
       "array([[     0,      1,      8,     27,      4,    125,      6,    343,\n",
       "             8,      9],\n",
       "       [    10,   1331,     12,   2197,     14,     15,     16,   4913,\n",
       "            18,   6859],\n",
       "       [    20,     21,     22,  12167,     24,     25,     26,     27,\n",
       "            28,  24389],\n",
       "       [    30,  29791,     32,     33,     34,     35,     36,  50653,\n",
       "            38,     39],\n",
       "       [    40,  68921,     42,  79507,     44,     45,     46, 103823,\n",
       "            48,     49]])"
      ]
     },
     "execution_count": 53,
     "metadata": {},
     "output_type": "execute_result"
    }
   ],
   "source": [
    "\n",
    "def check(n):\n",
    "    if n<2:\n",
    "        return 0;\n",
    "    for i in range(2,n//2+1):\n",
    "        if n%i==0:\n",
    "            return 0;\n",
    "    return n*n*n;\n",
    "a1=np.arange(0,50).reshape(5,10)\n",
    "li=l=a1.flatten().tolist()\n",
    "for i in li:\n",
    "    if check(i)!=0:\n",
    "        li[i]=check(i)\n",
    "sol=np.array(li).reshape(5,10)\n",
    "sol"
   ]
  },
  {
   "cell_type": "markdown",
   "id": "7f33d0e3",
   "metadata": {},
   "source": [
    "4.\tPython program to get the sum of every cubed value and its previous integer. "
   ]
  },
  {
   "cell_type": "code",
   "execution_count": 69,
   "id": "53ab1451",
   "metadata": {},
   "outputs": [
    {
     "data": {
      "text/plain": [
       "array([[     0,      1,      9,     35,      4,    129,      6,    349,\n",
       "             8,      9],\n",
       "       [    10,   1341,     12,   2209,     14,     15,     16,   4929,\n",
       "            18,   6877],\n",
       "       [    20,     21,     22,  12189,     24,     25,     26,     27,\n",
       "            28,  24417],\n",
       "       [    30,  29821,     32,     33,     34,     35,     36,  50689,\n",
       "            38,     39],\n",
       "       [    40,  68961,     42,  79549,     44,     45,     46, 103869,\n",
       "            48,     49]])"
      ]
     },
     "execution_count": 69,
     "metadata": {},
     "output_type": "execute_result"
    }
   ],
   "source": [
    "def check(n):\n",
    "    if n<2:\n",
    "        return 0;\n",
    "    for i in range(2,n//2+1):\n",
    "        if n%i==0:\n",
    "            return 0;\n",
    "    return 1;\n",
    "a1=np.arange(0,50).reshape(5,10)\n",
    "li=l=a1.flatten().tolist()\n",
    "t=0\n",
    "for i in li:\n",
    "    if check(i)!=0:\n",
    "        t=(i-1)*(i-1)*(i-1) if check(i-1) else i-1\n",
    "        li[i]=i*i*i + t\n",
    "sol=np.array(li).reshape(5,10)\n",
    "sol"
   ]
  },
  {
   "cell_type": "markdown",
   "id": "deb1884d",
   "metadata": {},
   "source": [
    "5.\tGiven two arrays, find their intersection. Examples:\n",
    "\n",
    "Input:  arr1[] = [1, 3, 4, 5, 7]\n",
    "\n",
    "arr2[] = [2, 3, 5, 6]\n"
   ]
  },
  {
   "cell_type": "code",
   "execution_count": 107,
   "id": "cd2242c7",
   "metadata": {},
   "outputs": [
    {
     "data": {
      "text/plain": [
       "[3, 5]"
      ]
     },
     "execution_count": 107,
     "metadata": {},
     "output_type": "execute_result"
    }
   ],
   "source": [
    "a = [1, 3, 4, 5, 7]\n",
    "b = [2, 3, 5, 6]\n",
    "a=list(set(a).intersection(b))\n",
    "a"
   ]
  },
  {
   "cell_type": "markdown",
   "id": "642513e2",
   "metadata": {},
   "source": [
    "6.\tCreate a 7 x 7  2D array having only multiples of 7. And return the last element of the same."
   ]
  },
  {
   "cell_type": "code",
   "execution_count": 25,
   "id": "fd15d034",
   "metadata": {},
   "outputs": [
    {
     "name": "stdout",
     "output_type": "stream",
     "text": [
      "[[  7  14  21  28  35  42  49]\n",
      " [ 56  63  70  77  84  91  98]\n",
      " [105 112 119 126 133 140 147]\n",
      " [154 161 168 175 182 189 196]\n",
      " [203 210 217 224 231 238 245]\n",
      " [252 259 266 273 280 287 294]\n",
      " [301 308 315 322 329 336 343]]\n"
     ]
    },
    {
     "data": {
      "text/plain": [
       "343"
      ]
     },
     "execution_count": 25,
     "metadata": {},
     "output_type": "execute_result"
    }
   ],
   "source": [
    "import numpy as np\n",
    "n=7*7\n",
    "ar=np.arange(7,n*7+1,7).reshape(7,7)\n",
    "print(ar)\n",
    "ar[-1][-1]"
   ]
  },
  {
   "cell_type": "markdown",
   "id": "1f2ee019",
   "metadata": {},
   "source": [
    "7.\tChecker Board Patten using Numpy:\n",
    "\n",
    "\n"
   ]
  },
  {
   "cell_type": "code",
   "execution_count": 75,
   "id": "ca0e5a40",
   "metadata": {},
   "outputs": [
    {
     "data": {
      "text/plain": [
       "array([[1, 0, 1, 0, 1, 0, 1, 0],\n",
       "       [0, 1, 0, 1, 0, 1, 0, 1],\n",
       "       [1, 0, 1, 0, 1, 0, 1, 0],\n",
       "       [0, 1, 0, 1, 0, 1, 0, 1],\n",
       "       [1, 0, 1, 0, 1, 0, 1, 0],\n",
       "       [0, 1, 0, 1, 0, 1, 0, 1],\n",
       "       [1, 0, 1, 0, 1, 0, 1, 0],\n",
       "       [0, 1, 0, 1, 0, 1, 0, 1]])"
      ]
     },
     "execution_count": 75,
     "metadata": {},
     "output_type": "execute_result"
    }
   ],
   "source": [
    "x=np.zeros((8,8),dtype='int')\n",
    "x[1::2, 1::2] = 1\n",
    "x[::2, 0::2] = 1\n",
    "x"
   ]
  },
  {
   "cell_type": "markdown",
   "id": "f0d5ac45",
   "metadata": {},
   "source": [
    "8.\tCreate a given Matrix:\n",
    "\n",
    "[  A,     B,     C,       D\n",
    "\n",
    "E,      F,     G,       H\n",
    "\n",
    "I,      a,      K,       L\n",
    "\n",
    "M,    N,     o,       P\n",
    "\n",
    "Q,     R,      S,       T\n",
    "\n",
    "U,     0,     W,      O ]\n",
    "\n",
    "Replace all the vowels by np.nan\n",
    "A, E, I, O U  -- >  np.nan\n",
    "Return the count of the missing values\n"
   ]
  },
  {
   "cell_type": "code",
   "execution_count": 104,
   "id": "9a03205a",
   "metadata": {},
   "outputs": [
    {
     "data": {
      "text/plain": [
       "5"
      ]
     },
     "execution_count": 104,
     "metadata": {},
     "output_type": "execute_result"
    }
   ],
   "source": [
    "import numpy as np\n",
    "a2=np.array([['A','B','C','D'],\n",
    "             ['E','F','G','H'],\n",
    "            ['I','J','K','L'],\n",
    "             ['M','N','O','P'],\n",
    "            ['Q','R','S','T'],\n",
    "             ['U','V','W','X']])\n",
    "a1=a2\n",
    "l=a1.flatten().tolist()\n",
    "vow=['A','E','I','O','U']\n",
    "for i in range(len(vow)):\n",
    "    vow[i]=l.index(vow[i])\n",
    "for i in vow:\n",
    "    l[i]=np.nan\n",
    "sol_arr=np.array(l)\n",
    "sol_arr=sol_arr.reshape(4,6)\n",
    "sol_arr\n",
    "count=0\n",
    "for i in sol_arr:\n",
    "    k=len(i)\n",
    "    for j in range(k):\n",
    "        if i[j]=='nan':\n",
    "            count+=1\n",
    "count"
   ]
  },
  {
   "cell_type": "code",
   "execution_count": null,
   "id": "d94b96a6",
   "metadata": {},
   "outputs": [],
   "source": []
  }
 ],
 "metadata": {
  "kernelspec": {
   "display_name": "Python 3 (ipykernel)",
   "language": "python",
   "name": "python3"
  },
  "language_info": {
   "codemirror_mode": {
    "name": "ipython",
    "version": 3
   },
   "file_extension": ".py",
   "mimetype": "text/x-python",
   "name": "python",
   "nbconvert_exporter": "python",
   "pygments_lexer": "ipython3",
   "version": "3.9.13"
  }
 },
 "nbformat": 4,
 "nbformat_minor": 5
}
