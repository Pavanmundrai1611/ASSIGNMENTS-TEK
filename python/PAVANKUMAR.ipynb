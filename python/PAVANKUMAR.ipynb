{
 "cells": [
  {
   "cell_type": "markdown",
   "id": "5f1fe116-e7cf-45e1-86a5-473445d9952f",
   "metadata": {},
   "source": [
    "### 1. Using keys and indexing, grab the 'hello' afrom the following dictionary"
   ]
  },
  {
   "cell_type": "code",
   "execution_count": 1,
   "id": "061e2dba-e128-4942-be35-b45c680d013c",
   "metadata": {},
   "outputs": [],
   "source": [
    "d = {'k1':[1,2,{'k2':['this is tricky',{'tough':[1,2,['hello']]}]}]}\n"
   ]
  },
  {
   "cell_type": "code",
   "execution_count": 2,
   "id": "c6e315be",
   "metadata": {},
   "outputs": [
    {
     "data": {
      "text/plain": [
       "['hello']"
      ]
     },
     "execution_count": 2,
     "metadata": {},
     "output_type": "execute_result"
    }
   ],
   "source": [
    "d['k1'][2]['k2'][1]['tough'][2]"
   ]
  },
  {
   "cell_type": "markdown",
   "id": "689c01fb-3911-40be-8e0b-00a8eab4dd18",
   "metadata": {},
   "source": [
    "### 2. Write a Python function that takes a list and returns a new list with unique elements of the first list.\n",
    "**!!!! DO NOT USE list(set())**  \\\n",
    "    Sample List : [1,1,1,1,2,2,3,3,3,3,4,5]   \\\n",
    "    Unique List : [1, 2, 3, 4, 5]"
   ]
  },
  {
   "cell_type": "code",
   "execution_count": 3,
   "id": "a615547a",
   "metadata": {},
   "outputs": [
    {
     "name": "stdout",
     "output_type": "stream",
     "text": [
      "[1, 2, 3, 4, 5]\n"
     ]
    }
   ],
   "source": [
    "def uniq(l):\n",
    "    new_list=[]\n",
    "    for i in l:\n",
    "        if i not in new_list:\n",
    "            new_list.append(i)\n",
    "    return new_list\n",
    "l=[1,1,1,1,2,2,3,3,3,3,4,5]\n",
    "print(uniq(l))"
   ]
  },
  {
   "cell_type": "markdown",
   "id": "cb41f026-decb-4b3c-9fb7-b27c2646fb04",
   "metadata": {},
   "source": [
    "### 3. Write a Python function that accepts a string and calculates the number of upper case letters and lower case letters.\n",
    "\n",
    "    Sample String : 'Hello Mr. Roshan, how are you this fine Tuesday?'\n",
    "    Expected Output : \n",
    "    No. of Upper case characters : 4\n",
    "    No. of Lower case Characters : 33"
   ]
  },
  {
   "cell_type": "code",
   "execution_count": 4,
   "id": "3bf0e2f9",
   "metadata": {},
   "outputs": [
    {
     "name": "stdout",
     "output_type": "stream",
     "text": [
      "No of upper case character: 4\n",
      "No of lower case character: 33\n"
     ]
    }
   ],
   "source": [
    "import string\n",
    "str=\"Hello Mr. Roshan, how are you this fine Tuesday?\"\n",
    "l=str.split()\n",
    "upper=0\n",
    "lower=0\n",
    "for i in str:\n",
    "    if i.isupper():\n",
    "        upper+=1\n",
    "    elif i.islower():\n",
    "        lower+=1\n",
    "    else:\n",
    "        continue\n",
    "print(\"No of upper case character: {}\".format(upper))\n",
    "print(\"No of lower case character: {}\".format(lower))"
   ]
  },
  {
   "cell_type": "markdown",
   "id": "8a0e1caf-e446-40e5-9418-348d5a9394d2",
   "metadata": {},
   "source": [
    "### 4.Create & Read a file constitution.txt. Create a dictionary with an entry for each letter in the alphabet. The keys are letters and the values will be the counts of the number of times a letter has viewed. Go through each character in data, skipping characters that aren't letters. For every letter, increment the count stored in letter_counts for that letter. Create a bar chart for the letter frequencies."
   ]
  },
  {
   "cell_type": "code",
   "execution_count": 5,
   "id": "4c79f3a4",
   "metadata": {},
   "outputs": [
    {
     "name": "stdout",
     "output_type": "stream",
     "text": [
      "{'h': 3, 'i': 6, ' ': 11, 't': 5, 's': 6, 'a': 3, 'n': 3, 'e': 7, 'w': 1, 'c': 1, '.': 1, 'm': 1, 'p': 1, 'l': 2, 'x': 1, 'f': 1}\n"
     ]
    }
   ],
   "source": [
    "fi=open('C:/Users/pmundrai/tekpython/costitution.txt','w')\n",
    "fi.write(\"hi this is a new sentence. this is a sample text file\")\n",
    "fi.close()\n",
    "fi=open('C:/Users/pmundrai/tekpython/costitution.txt','r')\n",
    "text=fi.read()\n",
    "fi.close()\n",
    "sol_dict={}\n",
    "for i in text:\n",
    "    if i in sol_dict:\n",
    "        sol_dict[i]=sol_dict[i]+1\n",
    "    else:\n",
    "        sol_dict[i]=1\n",
    "print(sol_dict)"
   ]
  },
  {
   "cell_type": "markdown",
   "id": "d9efe72b-87cb-4430-8a82-05e5050f92bc",
   "metadata": {},
   "source": [
    "### 5. For this challenge,\n",
    "\n",
    "Create a bank account class that has two attributes:\n",
    "\n",
    "owner,balance and two methods:\n",
    "\n",
    "deposit,withdraw\n",
    "As an added requirement, withdrawals may not exceed the available balance.\n",
    "\n",
    "Instantiate your class, make several deposits and withdrawals, and test to make sure the account can't be overdrawn."
   ]
  },
  {
   "cell_type": "code",
   "execution_count": 6,
   "id": "45252c92",
   "metadata": {},
   "outputs": [
    {
     "name": "stdout",
     "output_type": "stream",
     "text": [
      "the 40000 is the withdrawn amount & the remaining balance is 10000\n"
     ]
    }
   ],
   "source": [
    "class bankaccc:\n",
    "    def __init__(self,owner,balance):\n",
    "        self.owner=owner\n",
    "        self.balance=balance\n",
    "    def withdraw(self,amount):\n",
    "        if self.balance>=amount:\n",
    "            self.balance=self.balance-amount\n",
    "            print(\"the {} is the withdrawn amount & the remaining balance is {}\".format(amount,self.balance))\n",
    "        else:\n",
    "            print(\"you can't withdraw amount anymore\")\n",
    "    def deposit(self,amount):\n",
    "        self.balance+=amount\n",
    "        print(\"the updated balance is {} after adding {}\".format(self.balance,amount))\n",
    "    def ministatement(self):\n",
    "        print(\"the balance available is {}\".format(self.balance))\n",
    "    \n",
    "pavan= bankaccc(\"pavan\",50000)\n",
    "pavan.withdraw(40000)"
   ]
  },
  {
   "cell_type": "code",
   "execution_count": 7,
   "id": "227499b5",
   "metadata": {},
   "outputs": [
    {
     "name": "stdout",
     "output_type": "stream",
     "text": [
      "you can't withdraw amount anymore\n"
     ]
    }
   ],
   "source": [
    "pavan.withdraw(12000)"
   ]
  },
  {
   "cell_type": "code",
   "execution_count": 8,
   "id": "9e4464f5",
   "metadata": {},
   "outputs": [
    {
     "name": "stdout",
     "output_type": "stream",
     "text": [
      "the updated balance is 110000 after adding 100000\n"
     ]
    }
   ],
   "source": [
    "pavan.deposit(100000)"
   ]
  },
  {
   "cell_type": "code",
   "execution_count": 9,
   "id": "fe5e22d9",
   "metadata": {},
   "outputs": [
    {
     "name": "stdout",
     "output_type": "stream",
     "text": [
      "the balance available is 110000\n"
     ]
    }
   ],
   "source": [
    "pavan.ministatement()"
   ]
  },
  {
   "cell_type": "markdown",
   "id": "9d59550f-c8a5-4149-ad3f-f275a39c8086",
   "metadata": {},
   "source": [
    "### 6. Playing Cards\n",
    "4 suits (Hearts, Diamonds, Spades and Clubs)\n",
    "13 ranks (2 through 10, then the face cards Jack, Queen, King and Ace)\n",
    "\n",
    "    -- Total 52 Cards\n",
    "\n",
    "### The Game\n",
    " Jacks, Queens and Kings all have a rank of 10. Aces have a rank of either 11 or 1 as needed to reach 21 without busting. As a starting point in your program, you may want to assign variables to store a list of suits, ranks, and then use a dictionary to map ranks to values.\n",
    " 1. Create a deck of 52 cards\n",
    " 2. Shuffle the deck.\n",
    " 3. Display the winner if somebody's getting an Ace."
   ]
  },
  {
   "cell_type": "code",
   "execution_count": 1,
   "id": "7c80a6c5",
   "metadata": {},
   "outputs": [
    {
     "name": "stdout",
     "output_type": "stream",
     "text": [
      "enter 1 to start or 0 to end0\n",
      "sorry to see you go\n"
     ]
    }
   ],
   "source": [
    "import random\n",
    "cards=['S-A','S-K','S-J','S-Q','S-2','S-3','S-4','S-5','S-6','S-7','S-8','S-9','S-10','H-A','H-K','H-J','H-Q','H-2','H-3','H-4','H-5','H-6','H-7','H-8','H-9','H-10',\n",
    "'D-A','D-K','D-J','D-Q','D-2','D-3','D-4','D-5','D-6','D-7','D-8','D-9','D-10','C-A','C-K','C-J','C-Q','C-2','C-3','C-4','C-5','C-6','C-7','C-8','C-9','C-10']\n",
    "random.shuffle(cards)\n",
    "c=True\n",
    "picked=random.sample(cards,13)\n",
    "\n",
    "    \n",
    "while c==True:\n",
    "    k=int(input(\"enter 1 to start or 0 to end\"))\n",
    "    if k==1:\n",
    "        picked=random.sample(cards,13)\n",
    "        for i in picked:\n",
    "            if i[2]=='A':\n",
    "                print(\"win\")\n",
    "                c=False\n",
    "                break\n",
    "        if c==True:\n",
    "            print(\"try again by giving 1 as input\")\n",
    "    else:\n",
    "        print(\"sorry to see you go\")\n",
    "        c=False"
   ]
  },
  {
   "cell_type": "markdown",
   "id": "1d243239-dc35-4280-9e41-d75ea100b58d",
   "metadata": {},
   "source": [
    "### 7. Generate Password: 17 characters , minimum 1 Uppercase, 1 lowercase, 1 digits and 2 minimun special characters"
   ]
  },
  {
   "cell_type": "code",
   "execution_count": 16,
   "id": "3b16777e",
   "metadata": {},
   "outputs": [
    {
     "data": {
      "text/plain": [
       "'%##E#%eAX3f4uF%*6'"
      ]
     },
     "execution_count": 16,
     "metadata": {},
     "output_type": "execute_result"
    }
   ],
   "source": [
    "import random\n",
    "import string\n",
    "password=\"\"\n",
    "l=17\n",
    "specials=['$','%','*','#']\n",
    "while len(password)<=l:\n",
    "    password+=random.choice(string.ascii_lowercase)\n",
    "    password+=random.choice(string.ascii_uppercase)\n",
    "    password+=random.choice(string.digits)\n",
    "    for i in range(2):\n",
    "        password+=random.choice(specials)\n",
    "        \n",
    "password=''.join(random.sample(password,l))\n",
    "password"
   ]
  },
  {
   "cell_type": "markdown",
   "id": "5090a46a-a0f2-45e5-b058-f200ab845335",
   "metadata": {},
   "source": [
    "### 8. you are given a list which is [3, 5, 7, 3, 5, 7, 3, 545, 34, 235, 234, 6]. You have to sort it such that the seventh element is greatest of all, second element is greater than last element and second last element is not greater than sum of 8 and sixth element"
   ]
  },
  {
   "cell_type": "code",
   "execution_count": 29,
   "id": "f9d74c9d",
   "metadata": {},
   "outputs": [
    {
     "name": "stdout",
     "output_type": "stream",
     "text": [
      "old list is:  [3, 5, 7, 3, 5, 7, 3, 545, 34, 235, 234, 6]\n",
      "new list is:  [3, 7, 7, 3, 5, 7, 545, 545, 34, 235, 234, 6]\n"
     ]
    }
   ],
   "source": [
    "l=[3, 5, 7, 3, 5, 7, 3, 545, 34, 235, 234, 6]\n",
    "print(\"old list is: \",l)\n",
    "a=max(l)\n",
    "l[6]=a\n",
    "sm8_6=l[7]+l[6]\n",
    "if l[1]<l[-1]:\n",
    "    for i in l:\n",
    "        if i>l[-1]:\n",
    "            l[1]=i\n",
    "            break\n",
    "if l[-2]>sm8_6:\n",
    "    for i in l:\n",
    "        if i<sm8_6:\n",
    "            l[-2]=i\n",
    "            break\n",
    "print(\"new list is: \",l)\n"
   ]
  },
  {
   "cell_type": "code",
   "execution_count": null,
   "id": "e819dd70",
   "metadata": {},
   "outputs": [],
   "source": []
  }
 ],
 "metadata": {
  "kernelspec": {
   "display_name": "Python 3 (ipykernel)",
   "language": "python",
   "name": "python3"
  },
  "language_info": {
   "codemirror_mode": {
    "name": "ipython",
    "version": 3
   },
   "file_extension": ".py",
   "mimetype": "text/x-python",
   "name": "python",
   "nbconvert_exporter": "python",
   "pygments_lexer": "ipython3",
   "version": "3.9.13"
  }
 },
 "nbformat": 4,
 "nbformat_minor": 5
}
